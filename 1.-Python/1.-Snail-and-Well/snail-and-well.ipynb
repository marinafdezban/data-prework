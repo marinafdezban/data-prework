{
 "cells": [
  {
   "cell_type": "markdown",
   "metadata": {},
   "source": [
    "<img src=\"https://bit.ly/2VnXWr2\" width=\"100\" align=\"left\">"
   ]
  },
  {
   "cell_type": "markdown",
   "metadata": {},
   "source": [
    "# The Snail and the Well\n",
    "\n",
    "A snail falls at the bottom of a 125 cm well. Each day the snail rises 30 cm. But at night, while sleeping, slides 20 cm because the walls are wet. How many days does it take for the snail to escape the well?\n",
    "\n",
    "**Hint**: The snail gets out of the well when it surpasses the 125cm of height.\n",
    "\n",
    "## Tools\n",
    "\n",
    "1. Loop: **while**\n",
    "2. Conditional statements: **if-else**\n",
    "3. Function: **print()**\n",
    "\n",
    "## Tasks\n",
    "\n",
    "#### 1. Assign the challenge data to variables with representative names: `well_height`, `daily_distance`, `nightly_distance` and `snail_position`."
   ]
  },
  {
   "cell_type": "code",
   "execution_count": 35,
   "metadata": {},
   "outputs": [],
   "source": [
    "well_height = 125\n",
    "daily_distance = 30\n",
    "nightly_distance = 20\n",
    "snail_position = 0"
   ]
  },
  {
   "cell_type": "markdown",
   "metadata": {},
   "source": [
    "#### 2. Create a variable `days` to keep count of the days that pass until the snail escapes the well. "
   ]
  },
  {
   "cell_type": "code",
   "execution_count": 36,
   "metadata": {},
   "outputs": [],
   "source": [
    "days = 0"
   ]
  },
  {
   "cell_type": "markdown",
   "metadata": {},
   "source": [
    "#### 3. Find the solution to the challenge using the variables defined above. "
   ]
  },
  {
   "cell_type": "code",
   "execution_count": 37,
   "metadata": {},
   "outputs": [],
   "source": [
    "# Cálculo de días\n",
    "# Cálculo de salida:\n",
    "snail_total_distance = daily_distance - nightly_distance\n",
    "while snail_position < well_height:\n",
    "    # Incremento condición de salida\n",
    "    snail_position += snail_total_distance\n",
    "    # Calcular los días\n",
    "    days += 1"
   ]
  },
  {
   "cell_type": "markdown",
   "metadata": {},
   "source": [
    "#### 4. Print the solution."
   ]
  },
  {
   "cell_type": "code",
   "execution_count": 38,
   "metadata": {
    "scrolled": true
   },
   "outputs": [
    {
     "name": "stdout",
     "output_type": "stream",
     "text": [
      "13\n"
     ]
    }
   ],
   "source": [
    "print(days)"
   ]
  },
  {
   "cell_type": "markdown",
   "metadata": {},
   "source": [
    "## Bonus\n",
    "The distance traveled by the snail each day is now defined by a list.\n",
    "```\n",
    "advance_cm = [30, 21, 33, 77, 44, 45, 23, 45, 12, 34, 55]\n",
    "```\n",
    "On the first day, the snail rises 30cm but during the night it slides 20cm. On the second day, the snail rises 21cm but during the night it slides 20cm, and so on. \n",
    "\n",
    "#### 1. How many days does it take for the snail to escape the well?\n",
    "Follow the same guidelines as in the previous challenge.\n",
    "\n",
    "**Hint**: Remember that the snail gets out of the well when it surpasses the 125cm of height."
   ]
  },
  {
   "cell_type": "code",
   "execution_count": 40,
   "metadata": {},
   "outputs": [
    {
     "name": "stdout",
     "output_type": "stream",
     "text": [
      "6\n"
     ]
    }
   ],
   "source": [
    "advance_cm = [30, 21, 33, 77, 44, 45, 23, 45, 12, 34, 55]\n",
    "well_height = 125\n",
    "nightly_distance = 20\n",
    "snail_position = 0\n",
    "days = 0\n",
    "\n",
    "today_distance = 0\n",
    "advance_cm.reverse()\n",
    "while advance_cm:\n",
    "    today_distance = advance_cm.pop()\n",
    "    snail_position += today_distance - nightly_distance\n",
    "    days += 1\n",
    "    if snail_position >= well_height:\n",
    "        break \n",
    "print(days)\n",
    "    \n"
   ]
  },
  {
   "cell_type": "markdown",
   "metadata": {},
   "source": [
    "#### 2. What is its maximum displacement in one day? And its minimum? Calculate the displacement using only the travel distance of the days used to get out of the well. \n",
    "**Hint**: Remember that displacement means the total distance risen taking into account that the snail slides at night.  "
   ]
  },
  {
   "cell_type": "code",
   "execution_count": 43,
   "metadata": {},
   "outputs": [
    {
     "name": "stdout",
     "output_type": "stream",
     "text": [
      "57\n",
      "1\n"
     ]
    }
   ],
   "source": [
    "advance_cm = [30, 21, 33, 77, 44, 45, 23, 45, 12, 34, 55]\n",
    "well_height = 125\n",
    "nightly_distance = 20\n",
    "snail_position = 0\n",
    "days = 0\n",
    "today_distance = 0\n",
    "\n",
    "maximum = min(advance_cm) - nightly_distance\n",
    "minimum = max(advance_cm) - nightly_distance\n",
    "\n",
    "advance_cm.reverse()\n",
    "while advance_cm:\n",
    "    today_distance = advance_cm.pop()\n",
    "    snail_position += today_distance - nightly_distance\n",
    "    \n",
    "    \n",
    "  \n",
    "    if maximum < today_distance - daily_distance:\n",
    "        maximum = today_distance - nightly_distance\n",
    "        \n",
    "    if minimum > today_distance - daily_distance:\n",
    "        minimum = today_distance - nightly_distance\n",
    "       \n",
    "    if snail_position >= well_height:\n",
    "        break \n",
    "    \n",
    "print(str(maximum))\n",
    "print(str(minimum))\n",
    "    "
   ]
  },
  {
   "cell_type": "markdown",
   "metadata": {},
   "source": [
    "#### 3. What is its average progress? Take into account the snail slides at night."
   ]
  },
  {
   "cell_type": "code",
   "execution_count": 45,
   "metadata": {},
   "outputs": [
    {
     "name": "stdout",
     "output_type": "stream",
     "text": [
      "Total: 130. days: 6. average_progress: 21.666666666666668\n"
     ]
    }
   ],
   "source": [
    "advance_cm = [30, 21, 33, 77, 44, 45, 23, 45, 12, 34, 55]\n",
    "well_height = 125\n",
    "nightly_distance = 20\n",
    "snail_position = 0\n",
    "days = 0\n",
    "today_distance = 0\n",
    "\n",
    "average_progress = 0\n",
    "advance_cm.reverse()\n",
    "\n",
    "while advance_cm:\n",
    "    today_distance = advance_cm.pop()\n",
    "    snail_position += today_distance - nightly_distance\n",
    "    days = days + 1 \n",
    "    \n",
    "    if snail_position >= well_height:\n",
    "        break \n",
    "    \n",
    "average_progress = snail_position / days\n",
    "print('Total: ' + str(snail_position) + '. days: ' + str(days) + '. average_progress: ' + str(average_progress))\n"
   ]
  },
  {
   "cell_type": "markdown",
   "metadata": {},
   "source": [
    "#### 4. What is the standard deviation of its displacement? Take into account the snail slides at night."
   ]
  },
  {
   "cell_type": "code",
   "execution_count": 47,
   "metadata": {},
   "outputs": [
    {
     "name": "stdout",
     "output_type": "stream",
     "text": [
      "standard_deviation_total: 19.510680835549195\n",
      "[10, 1, 13, 57, 24, 25]\n"
     ]
    }
   ],
   "source": [
    "import statistics\n",
    "\n",
    "advance_cm = [30, 21, 33, 77, 44, 45, 23, 45, 12, 34, 55]\n",
    "well_height = 125\n",
    "nightly_distance = 20\n",
    "snail_position = 0\n",
    "today_distance = 0\n",
    "days = 0\n",
    "\n",
    "advance_cm_total = []\n",
    "\n",
    "advance_cm.reverse()\n",
    "while advance_cm:\n",
    "    today_distance = advance_cm.pop() - nightly_distance\n",
    "    snail_position += today_distance\n",
    "\n",
    "    advance_cm_total.append(today_distance)\n",
    "\n",
    "    if snail_position >= well_height:\n",
    "        break\n",
    "\n",
    "standard_deviation_total = statistics.stdev(advance_cm_total)\n",
    "print('standard_deviation_total: ' + str(standard_deviation_total))\n",
    "print(advance_cm_total)"
   ]
  }
 ],
 "metadata": {
  "kernelspec": {
   "display_name": "Python 3",
   "language": "python",
   "name": "python3"
  },
  "language_info": {
   "codemirror_mode": {
    "name": "ipython",
    "version": 3
   },
   "file_extension": ".py",
   "mimetype": "text/x-python",
   "name": "python",
   "nbconvert_exporter": "python",
   "pygments_lexer": "ipython3",
   "version": "3.8.5"
  }
 },
 "nbformat": 4,
 "nbformat_minor": 2
}
