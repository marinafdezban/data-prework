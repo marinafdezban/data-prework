{
 "cells": [
  {
   "cell_type": "markdown",
   "metadata": {},
   "source": [
    "<img src=\"https://bit.ly/2VnXWr2\" width=\"100\" align=\"left\"/>"
   ]
  },
  {
   "cell_type": "markdown",
   "metadata": {},
   "source": [
    "# Robin Hood\n",
    "Robin Hood has entered a competition to win the archery contest in Sherwood. With his bow and arrows, he needs to shoot on a target and try to hit as close as possible to the center.\n",
    "\n",
    "![](images/arrows.jpg)\n",
    "\n",
    "## Context\n",
    "In this challenge, the landing position of arrows shot by archers in the competition will be represented using 2-dimensional coordinates. \n",
    "\n",
    "In the 2-dimensional space, a point can be defined by a pair of values that correspond to the horizontal coordinate (x) and the vertical coordinate (y). For example, in our case, an arrow that hits the center of the archery target will land in position (0, 0) on the coordinate axes. \n",
    "\n",
    "The space can be divided into 4 zones (quadrants): Q1, Q2, Q3, Q4. If a point is in Q1, both its x coordinate and y coordinate are positive. Any point with a null x or y coordinate is considered to not belong to any quadrant. \n",
    "\n",
    "If you want to know more about the cartesian coordinate system, you can check this [link](https://en.wikipedia.org/wiki/Cartesian_coordinate_system). \n",
    "\n",
    "## Tools\n",
    "You don't necessarily need to use all the tools. Maybe you opt to use some of them or completely different ones, they are given to help you shape the exercise. Programming exercises can be solved in many different ways.\n",
    "* Data structures: **lists, sets, tuples**\n",
    "* Conditional statements: **if-elif-else**\n",
    "* Loop: **while/for**\n",
    "* Minimum (optional sorting)\n",
    "\n",
    "## Tasks\n",
    "Robin Hood has hit the following points:"
   ]
  },
  {
   "cell_type": "code",
   "execution_count": 3,
   "metadata": {},
   "outputs": [],
   "source": [
    "points = [(4, 5), (-0, 2), (4, 7), (1, -3), (3, -2), (4, 5), (3, 2), (5, 7), (-5, 7), (2, 2), (-4, 5), (0, -2),\n",
    "          (-4, 7), (-1, 3), (-3, 2), (-4, -5), (-3, 2), (5, 7), (5, 7), (2, 2), (9, 9), (-8, -9)]"
   ]
  },
  {
   "cell_type": "markdown",
   "metadata": {},
   "source": [
    "#### 1. Robin Hood is famous for hitting an arrow with another arrow. Find the coordinates of the points where an arrow hits another arrow."
   ]
  },
  {
   "cell_type": "code",
   "execution_count": 4,
   "metadata": {},
   "outputs": [
    {
     "name": "stdout",
     "output_type": "stream",
     "text": [
      "Loop 0: (4, 5)\n",
      "Key NOT found\n",
      "Loop 1: (0, 2)\n",
      "Loop 2: (4, 7)\n",
      "Key NOT found\n",
      "Loop 3: (1, -3)\n",
      "Key NOT found\n",
      "Loop 4: (3, -2)\n",
      "Key NOT found\n",
      "Loop 5: (4, 5)\n",
      "Key FOUND\n",
      "Loop 6: (3, 2)\n",
      "Key NOT found\n",
      "Loop 7: (5, 7)\n",
      "Key NOT found\n",
      "Loop 8: (-5, 7)\n",
      "Key NOT found\n",
      "Loop 9: (2, 2)\n",
      "Key NOT found\n",
      "Loop 10: (-4, 5)\n",
      "Key NOT found\n",
      "Loop 11: (0, -2)\n",
      "Loop 12: (-4, 7)\n",
      "Key NOT found\n",
      "Loop 13: (-1, 3)\n",
      "Key NOT found\n",
      "Loop 14: (-3, 2)\n",
      "Key NOT found\n",
      "Loop 15: (-4, -5)\n",
      "Key NOT found\n",
      "Loop 16: (-3, 2)\n",
      "Key FOUND\n",
      "Loop 17: (5, 7)\n",
      "Key FOUND\n",
      "Loop 18: (5, 7)\n",
      "Key FOUND\n",
      "Loop 19: (2, 2)\n",
      "Key FOUND\n",
      "Loop 20: (9, 9)\n",
      "Key NOT found\n",
      "Loop 21: (-8, -9)\n",
      "Key NOT found\n",
      "  {'(4, 5)': 2, '(4, 7)': 1, '(1, -3)': 1, '(3, -2)': 1, '(3, 2)': 1, '(5, 7)': 3, '(-5, 7)': 1, '(2, 2)': 2, '(-4, 5)': 1, '(-4, 7)': 1, '(-1, 3)': 1, '(-3, 2)': 2, '(-4, -5)': 1, '(9, 9)': 1, '(-8, -9)': 1}\n"
     ]
    }
   ],
   "source": [
    "points_count = dict([])\n",
    "\n",
    "for i in range(0, len(points)):\n",
    "    print('Loop ' + str(i) + ': ' + str(points[i]))\n",
    "    current_key = str(points[i])\n",
    "    # Compruebo si ha fallado la flecha\n",
    "    if points[i][0] != 0 and points[i][1] != 0:\n",
    "        # Si points[i] está en points_count sumo una aparición\n",
    "        if points_count.get(current_key) != None:\n",
    "            points_count.update({current_key: points_count.get(current_key) + 1})\n",
    "            print('Key FOUND')\n",
    "        # Si no lo añado con valor 1\n",
    "        else:\n",
    "            print('Key NOT found')\n",
    "            points_count.update({current_key: 1})\n",
    "print('  ' + str(points_count))"
   ]
  },
  {
   "cell_type": "markdown",
   "metadata": {},
   "source": [
    "#### 2. Calculate how many arrows have fallen in each quadrant. \n",
    "**Note**: the arrows that fall in the axis (x=0 or y=0) don't belong to any quadrant."
   ]
  },
  {
   "cell_type": "code",
   "execution_count": 5,
   "metadata": {},
   "outputs": [
    {
     "name": "stdout",
     "output_type": "stream",
     "text": [
      "Loop 0: (4, 5)\n",
      "Q1\n",
      "Key NOT found\n",
      "Loop 1: (0, 2)\n",
      "Q1\n",
      "Key FOUND\n",
      "Loop 2: (4, 7)\n",
      "Q1\n",
      "Key FOUND\n",
      "Loop 3: (1, -3)\n",
      "Q2\n",
      "Key NOT found\n",
      "Loop 4: (3, -2)\n",
      "Q2\n",
      "Key FOUND\n",
      "Loop 5: (4, 5)\n",
      "Q1\n",
      "Key FOUND\n",
      "Loop 6: (3, 2)\n",
      "Q1\n",
      "Key FOUND\n",
      "Loop 7: (5, 7)\n",
      "Q1\n",
      "Key FOUND\n",
      "Loop 8: (-5, 7)\n",
      "Q4\n",
      "Key NOT found\n",
      "Loop 9: (2, 2)\n",
      "Q1\n",
      "Key FOUND\n",
      "Loop 10: (-4, 5)\n",
      "Q4\n",
      "Key FOUND\n",
      "Loop 11: (0, -2)\n",
      "Q4\n",
      "Key FOUND\n",
      "Loop 12: (-4, 7)\n",
      "Q4\n",
      "Key FOUND\n",
      "Loop 13: (-1, 3)\n",
      "Q4\n",
      "Key FOUND\n",
      "Loop 14: (-3, 2)\n",
      "Q4\n",
      "Key FOUND\n",
      "Loop 15: (-4, -5)\n",
      "Q3\n",
      "Key NOT found\n",
      "Loop 16: (-3, 2)\n",
      "Q4\n",
      "Key FOUND\n",
      "Loop 17: (5, 7)\n",
      "Q1\n",
      "Key FOUND\n",
      "Loop 18: (5, 7)\n",
      "Q1\n",
      "Key FOUND\n",
      "Loop 19: (2, 2)\n",
      "Q1\n",
      "Key FOUND\n",
      "Loop 20: (9, 9)\n",
      "Q1\n",
      "Key FOUND\n",
      "Loop 21: (-8, -9)\n",
      "Q3\n",
      "Key FOUND\n",
      "{'Q1': 11, 'Q2': 2, 'Q4': 7, 'Q3': 2}\n"
     ]
    }
   ],
   "source": [
    "quadrant_count = dict([])\n",
    "\n",
    "# Para cada punto de la lista:\n",
    "for i in range(0, len(points)):\n",
    "    print('Loop ' + str(i) + ': ' + str(points[i]))\n",
    "    current_point = points[i]\n",
    "    # Calcular cuadrante Qx del punto\n",
    "    # x>0 y y>0 entonces Q1\n",
    "    if current_point[0] > 0 and current_point[1] > 0:\n",
    "        curent_cuadrant = 'Q1'\n",
    "    # x>0 y y<0 entonces Q2\n",
    "    if current_point[0] > 0 and current_point[1] < 0:\n",
    "        curent_cuadrant = 'Q2'\n",
    "    # x<0 y y<0 entonces Q3\n",
    "    if current_point[0] < 0 and current_point[1] < 0:\n",
    "        curent_cuadrant = 'Q3'\n",
    "    # x<0 y y>0 entonces Q4\n",
    "    if current_point[0] < 0 and current_point[1] > 0:\n",
    "        curent_cuadrant = 'Q4'\n",
    "    print(curent_cuadrant)\n",
    "    # Sumar 1 al cuadrante Qx\n",
    "    # Si existe la clave\n",
    "    if quadrant_count.get(curent_cuadrant) != None:\n",
    "        # Incremento clave\n",
    "        quadrant_count.update({curent_cuadrant: quadrant_count.get(curent_cuadrant) + 1})\n",
    "        print('Key FOUND')\n",
    "    else:\n",
    "        # Creo clave\n",
    "        print('Key NOT found')\n",
    "        quadrant_count.update({curent_cuadrant: 1})\n",
    "print(quadrant_count)"
   ]
  },
  {
   "cell_type": "markdown",
   "metadata": {},
   "source": [
    "#### 3. Find the point closest to the center. Calculate its distance to the center. \n",
    "Take into account that there might be more than one point at the minimum distance to the center.\n",
    "\n",
    "**Hint**: Use the Euclidean distance. You can find more information about it [here](https://en.wikipedia.org/wiki/Euclidean_distance).  \n",
    "**Hint**: Defining a function that calculates the distance to the center can help."
   ]
  },
  {
   "cell_type": "code",
   "execution_count": 2,
   "metadata": {},
   "outputs": [
    {
     "name": "stdout",
     "output_type": "stream",
     "text": [
      "Distancias: [6.4031242374328485, 2.0, 8.06225774829855, 3.1622776601683795, 3.605551275463989, 6.4031242374328485, 3.605551275463989, 8.602325267042627, 8.602325267042627, 2.8284271247461903, 6.4031242374328485, 2.0, 8.06225774829855, 3.1622776601683795, 3.605551275463989, 6.4031242374328485, 3.605551275463989, 8.602325267042627, 8.602325267042627, 2.8284271247461903, 12.727922061357855, 12.041594578792296]\n",
      "\n",
      "Mínimo: 2.0\n"
     ]
    }
   ],
   "source": [
    "# Inicializar variables\n",
    "    # Impotar librerías\n",
    "import math\n",
    "    # Iniciar puntos\n",
    "points = [(4, 5), (-0, 2), (4, 7), (1, -3), (3, -2), (4, 5), (3, 2), (5, 7), (-5, 7), (2, 2), (-4, 5), (0, -2),\n",
    "          (-4, 7), (-1, 3), (-3, 2), (-4, -5), (-3, 2), (5, 7), (5, 7), (2, 2), (9, 9), (-8, -9)]\n",
    "    # Iniciar mínimo = radio de la diana\n",
    "minimo = 10.0\n",
    "    # iniciar lista distancias\n",
    "distancias = []\n",
    "\n",
    "# Para cada punto -> itero\n",
    "for i in range(len(points)):\n",
    "    # Calcular distancia al centro del punto iésimo\n",
    "    punto = points[i]\n",
    "    distancia = math.sqrt((punto[0]**2) + (punto[1]**2))\n",
    "    # Añadir a la lista de distancias\n",
    "    distancias.append(distancia)\n",
    "print('Distancias: ' + str(distancias))\n",
    "\n",
    "# pintar mínimo\n",
    "minimo = min(distancias)\n",
    "print('\\nMínimo: ' + str(minimo))\n",
    "    "
   ]
  },
  {
   "cell_type": "markdown",
   "metadata": {},
   "source": [
    "#### 4. If the archery target has a radius of 9, calculate the number of arrows that won't hit the target. \n",
    "**Hint**: Use the function created in step 3. "
   ]
  },
  {
   "cell_type": "code",
   "execution_count": 3,
   "metadata": {},
   "outputs": [
    {
     "name": "stdout",
     "output_type": "stream",
     "text": [
      "Loop: 0 6.4031242374328485 Fallos: 0\n",
      "Loop: 1 2.0 Fallos: 0\n",
      "Loop: 2 8.06225774829855 Fallos: 0\n",
      "Loop: 3 3.1622776601683795 Fallos: 0\n",
      "Loop: 4 3.605551275463989 Fallos: 0\n",
      "Loop: 5 6.4031242374328485 Fallos: 0\n",
      "Loop: 6 3.605551275463989 Fallos: 0\n",
      "Loop: 7 8.602325267042627 Fallos: 0\n",
      "Loop: 8 8.602325267042627 Fallos: 0\n",
      "Loop: 9 2.8284271247461903 Fallos: 0\n",
      "Loop: 10 6.4031242374328485 Fallos: 0\n",
      "Loop: 11 2.0 Fallos: 0\n",
      "Loop: 12 8.06225774829855 Fallos: 0\n",
      "Loop: 13 3.1622776601683795 Fallos: 0\n",
      "Loop: 14 3.605551275463989 Fallos: 0\n",
      "Loop: 15 6.4031242374328485 Fallos: 0\n",
      "Loop: 16 3.605551275463989 Fallos: 0\n",
      "Loop: 17 8.602325267042627 Fallos: 0\n",
      "Loop: 18 8.602325267042627 Fallos: 0\n",
      "Loop: 19 2.8284271247461903 Fallos: 0\n",
      "Loop: 20 12.727922061357855 Fallos: 0\n",
      "Sumo un fallo!!\n",
      "Loop: 21 12.041594578792296 Fallos: 1\n",
      "Sumo un fallo!!\n",
      "Fallos: 2\n"
     ]
    }
   ],
   "source": [
    "# Inicializo variables\n",
    "    # Numero de flechas = 0\n",
    "numero_fallos = 0\n",
    "    # Radio = 9\n",
    "radio = 9\n",
    "# Para cada punto -> itero\n",
    "for i in range(len(distancias)):\n",
    "    print('Loop: ' + str(i) + ' ' + str(distancias[i]) + ' Fallos: ' + str(numero_fallos))\n",
    "    # si radio < distancia punto iésimo\n",
    "    if radio < distancias[i]:\n",
    "        # cuento uno\n",
    "        numero_fallos += 1\n",
    "        print('Sumo un fallo!!')\n",
    "# pintar resultado\n",
    "print('Fallos: ' + str(numero_fallos))"
   ]
  }
 ],
 "metadata": {
  "kernelspec": {
   "display_name": "Python 3",
   "language": "python",
   "name": "python3"
  },
  "language_info": {
   "codemirror_mode": {
    "name": "ipython",
    "version": 3
   },
   "file_extension": ".py",
   "mimetype": "text/x-python",
   "name": "python",
   "nbconvert_exporter": "python",
   "pygments_lexer": "ipython3",
   "version": "3.8.5"
  }
 },
 "nbformat": 4,
 "nbformat_minor": 2
}
