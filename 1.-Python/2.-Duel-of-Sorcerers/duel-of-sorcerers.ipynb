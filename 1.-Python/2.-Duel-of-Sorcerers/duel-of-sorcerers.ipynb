{
 "cells": [
  {
   "cell_type": "markdown",
   "metadata": {},
   "source": [
    "<img src=\"https://bit.ly/2VnXWr2\" width=\"100\" align=\"left\">"
   ]
  },
  {
   "cell_type": "markdown",
   "metadata": {},
   "source": [
    "# Duel of Sorcerers\n",
    "You are witnessing an epic battle between two powerful sorcerers: Gandalf and Saruman. Each sorcerer has 10 spells of variable power in their mind and they are going to throw them one after the other. The winner of the duel will be the one who wins more of those clashes between spells. Spells are represented as a list of 10 integers whose value equals the power of the spell.\n",
    "```\n",
    "gandalf = [10, 11, 13, 30, 22, 11, 10, 33, 22, 22]\n",
    "saruman = [23, 66, 12, 43, 12, 10, 44, 23, 12, 17]\n",
    "```\n",
    "For example:\n",
    "- The first clash is won by Saruman: 10 against 23.\n",
    "- The second clash is won by Saruman: 11 against 66.\n",
    "- ...\n",
    "\n",
    "You will create two variables, one for each sorcerer, where the sum of clashes won will be stored. Depending on which variable is greater at the end of the duel, you will show one of the following three results on the screen:\n",
    "* Gandalf wins\n",
    "* Saruman wins\n",
    "* Tie\n",
    "\n",
    "<img src=\"images/content_lightning_bolt_big.jpg\" width=\"400\">"
   ]
  },
  {
   "cell_type": "markdown",
   "metadata": {},
   "source": [
    "## Tools\n",
    "You don't necessarily need to use all the tools. Maybe you opt to use some of them or completely different ones, they are given to help you shape the exercise. Programming exercises can be solved in many different ways.\n",
    "\n",
    "1. Data structures: **lists, dictionaries**\n",
    "2. Loop: **for loop**\n",
    "3. Conditional statements: **if-elif-else**\n",
    "4. Functions: **range(), len(), print()**\n",
    "\n",
    "## Tasks\n",
    "\n",
    "#### 1. Create two variables called `gandalf` and `saruman` and assign them the spell power lists. Create a variable called `spells` to store the number of spells that the sorcerers cast. "
   ]
  },
  {
   "cell_type": "code",
   "execution_count": 1,
   "metadata": {},
   "outputs": [],
   "source": [
    "gandalf = [10, 11, 13, 30, 22, 11, 10, 33, 22, 22]\n",
    "saruman = [23, 66, 12, 43, 12, 10, 44, 23, 12, 17]\n",
    "spells = 10"
   ]
  },
  {
   "cell_type": "markdown",
   "metadata": {},
   "source": [
    "#### 2. Create two variables called `gandalf_wins` and `saruman_wins`. Set both of them to 0. \n",
    "You will use these variables to count the number of clashes each sorcerer wins. "
   ]
  },
  {
   "cell_type": "code",
   "execution_count": 2,
   "metadata": {},
   "outputs": [],
   "source": [
    "gandalf_wins = 0\n",
    "saruman_wins = 0"
   ]
  },
  {
   "cell_type": "markdown",
   "metadata": {},
   "source": [
    "#### 3. Using the lists of spells of both sorcerers, update variables `gandalf_wins` and `saruman_wins` to count the number of times each sorcerer wins a clash. "
   ]
  },
  {
   "cell_type": "code",
   "execution_count": 10,
   "metadata": {},
   "outputs": [
    {
     "name": "stdout",
     "output_type": "stream",
     "text": [
      "Loops:   0\n",
      "     Saruman_wins: 1\n",
      "     Gandalf_wins: 0\n",
      "     Tie: 0\n",
      "Loops:   1\n",
      "     Saruman_wins: 2\n",
      "     Gandalf_wins: 0\n",
      "     Tie: 0\n",
      "Loops:   2\n",
      "     Saruman_wins: 2\n",
      "     Gandalf_wins: 1\n",
      "     Tie: 0\n",
      "Loops:   3\n",
      "     Saruman_wins: 3\n",
      "     Gandalf_wins: 1\n",
      "     Tie: 0\n",
      "Loops:   4\n",
      "     Saruman_wins: 3\n",
      "     Gandalf_wins: 2\n",
      "     Tie: 0\n",
      "Loops:   5\n",
      "     Saruman_wins: 3\n",
      "     Gandalf_wins: 3\n",
      "     Tie: 0\n",
      "Loops:   6\n",
      "     Saruman_wins: 4\n",
      "     Gandalf_wins: 3\n",
      "     Tie: 0\n",
      "Loops:   7\n",
      "     Saruman_wins: 4\n",
      "     Gandalf_wins: 4\n",
      "     Tie: 0\n",
      "Loops:   8\n",
      "     Saruman_wins: 4\n",
      "     Gandalf_wins: 5\n",
      "     Tie: 0\n",
      "Loops:   9\n",
      "     Saruman_wins: 4\n",
      "     Gandalf_wins: 6\n",
      "     Tie: 0\n"
     ]
    }
   ],
   "source": [
    "gandalf = [10, 11, 13, 30, 22, 11, 10, 33, 22, 22]\n",
    "saruman = [23, 66, 12, 43, 12, 10, 44, 23, 12, 17]\n",
    "spells = 10\n",
    "gandalf_wins = 0\n",
    "saruman_wins = 0\n",
    "tie = 0\n",
    "i = 0\n",
    "\n",
    "for i in range(0,spells):\n",
    "    if gandalf[i] > saruman[i]:\n",
    "        gandalf_wins += 1\n",
    "    if saruman[i] > gandalf[i]:\n",
    "        saruman_wins += 1\n",
    "    if gandalf[i] == saruman[i]:\n",
    "        tie += 1\n",
    "        \n",
    "    print ('Loops:   ' +  str(i))\n",
    "    \n",
    "    print ('     Saruman_wins: ' + str (saruman_wins))\n",
    "    print ('     Gandalf_wins: ' + str(gandalf_wins))\n",
    "    print ('     Tie: ' + str(tie))\n",
    "\n",
    "    \n",
    "    \n",
    "    \n",
    "    "
   ]
  },
  {
   "cell_type": "markdown",
   "metadata": {},
   "source": [
    "#### 4. Who won the battle?\n",
    "Print `Gandalf wins`, `Saruman wins` or `Tie` depending on the result. "
   ]
  },
  {
   "cell_type": "code",
   "execution_count": 11,
   "metadata": {},
   "outputs": [
    {
     "name": "stdout",
     "output_type": "stream",
     "text": [
      "Gandalf Wins\n"
     ]
    }
   ],
   "source": [
    "if gandalf_wins > saruman_wins:\n",
    "    print('Gandalf Wins')\n",
    "if saruman_wins > gandalf_wins:\n",
    "    print('Saruman Wins')\n",
    "if gandalf_wins == saruman_wins:\n",
    "    print('Empate')"
   ]
  },
  {
   "cell_type": "markdown",
   "metadata": {},
   "source": [
    "## Bonus\n",
    "\n",
    "In this bonus challenge, you'll need to check the winner of the battle but this time, a sorcerer wins if he succeeds in winning 3 spell clashes in a row.\n",
    "\n",
    "Also, the spells now have a name and there is a dictionary that associates that name to a power.\n",
    "\n",
    "```\n",
    "POWER = {\n",
    "    'Fireball': 50, \n",
    "    'Lightning bolt': 40, \n",
    "    'Magic arrow': 10, \n",
    "    'Black Tentacles': 25, \n",
    "    'Contagion': 45\n",
    "}\n",
    "\n",
    "gandalf = ['Fireball', 'Lightning bolt', 'Lightning bolt', 'Magic arrow', 'Fireball', \n",
    "           'Magic arrow', 'Lightning bolt', 'Fireball', 'Fireball', 'Fireball']\n",
    "saruman = ['Contagion', 'Contagion', 'Black Tentacles', 'Fireball', 'Black Tentacles', \n",
    "           'Lightning bolt', 'Magic arrow', 'Contagion', 'Magic arrow', 'Magic arrow']\n",
    "```\n",
    "\n",
    "#### 1. Create variables `POWER`, `gandalf` and `saruman` as seen above. Create a variable called `spells` to store the number of spells that the sorcerers cast. "
   ]
  },
  {
   "cell_type": "code",
   "execution_count": 14,
   "metadata": {},
   "outputs": [],
   "source": [
    "POWER = {\n",
    "    'Fireball': 50, \n",
    "    'Lightning bolt': 40, \n",
    "    'Magic arrow': 10, \n",
    "    'Black Tentacles': 25, \n",
    "    'Contagion': 45\n",
    "}\n",
    "\n",
    "gandalf = ['Fireball', 'Lightning bolt', 'Lightning bolt', 'Magic arrow', 'Fireball', \n",
    "           'Magic arrow', 'Lightning bolt', 'Fireball', 'Fireball', 'Fireball']\n",
    "\n",
    "saruman = ['Contagion', 'Contagion', 'Black Tentacles', 'Fireball', 'Black Tentacles', \n",
    "           'Lightning bolt', 'Magic arrow', 'Contagion', 'Magic arrow', 'Magic arrow']\n",
    "\n",
    "spells = 10"
   ]
  },
  {
   "cell_type": "markdown",
   "metadata": {},
   "source": [
    "#### 2. Create two variables called `gandalf_wins` and `saruman_wins`. Set both of them to 0. "
   ]
  },
  {
   "cell_type": "code",
   "execution_count": 15,
   "metadata": {},
   "outputs": [],
   "source": [
    "gandalf_wins = 0\n",
    "saruman_wins = 0"
   ]
  },
  {
   "cell_type": "markdown",
   "metadata": {},
   "source": [
    "#### 3. Create two variables called `gandalf_power` and `saruman_power` to store the list of spell powers of each sorcerer."
   ]
  },
  {
   "cell_type": "code",
   "execution_count": 20,
   "metadata": {},
   "outputs": [
    {
     "name": "stdout",
     "output_type": "stream",
     "text": [
      "Saruman Power[45]\n",
      "Gandalf Power[50]\n",
      "Saruman Power[45, 45]\n",
      "Gandalf Power[50, 40]\n",
      "Saruman Power[45, 45, 25]\n",
      "Gandalf Power[50, 40, 40]\n",
      "Saruman Power[45, 45, 25, 50]\n",
      "Gandalf Power[50, 40, 40, 10]\n",
      "Saruman Power[45, 45, 25, 50, 25]\n",
      "Gandalf Power[50, 40, 40, 10, 50]\n",
      "Saruman Power[45, 45, 25, 50, 25, 40]\n",
      "Gandalf Power[50, 40, 40, 10, 50, 10]\n",
      "Saruman Power[45, 45, 25, 50, 25, 40, 10]\n",
      "Gandalf Power[50, 40, 40, 10, 50, 10, 40]\n",
      "Saruman Power[45, 45, 25, 50, 25, 40, 10, 45]\n",
      "Gandalf Power[50, 40, 40, 10, 50, 10, 40, 50]\n",
      "Saruman Power[45, 45, 25, 50, 25, 40, 10, 45, 10]\n",
      "Gandalf Power[50, 40, 40, 10, 50, 10, 40, 50, 50]\n",
      "Saruman Power[45, 45, 25, 50, 25, 40, 10, 45, 10, 10]\n",
      "Gandalf Power[50, 40, 40, 10, 50, 10, 40, 50, 50, 50]\n"
     ]
    }
   ],
   "source": [
    "gandalf_power = []\n",
    "saruman_power = []\n",
    "for i in range (0,spells):\n",
    "    power = POWER.get(saruman[i])\n",
    "    saruman_power.append(power)\n",
    "    print('Saruman Power' + str (saruman_power))\n",
    "    \n",
    "    power = POWER.get(gandalf[i])\n",
    "    gandalf_power.append(power)\n",
    "    print('Gandalf Power' + str(gandalf_power))\n",
    "\n",
    "\n",
    "    "
   ]
  },
  {
   "cell_type": "markdown",
   "metadata": {},
   "source": [
    "#### 4. The battle starts! Using the variables you've created above, code the execution of spell clashes. Remember that a sorcerer wins if he succeeds in winning 3 spell clashes in a row. \n",
    "If a clash ends up in a tie, the counter of wins in a row is not restarted to 0. Remember to print who is the winner of the battle. "
   ]
  },
  {
   "cell_type": "code",
   "execution_count": 22,
   "metadata": {},
   "outputs": [
    {
     "name": "stdout",
     "output_type": "stream",
     "text": [
      "Gandalf Wins\n"
     ]
    }
   ],
   "source": [
    "spells = 10\n",
    "gandalf_wins = 0\n",
    "saruman_wins = 0\n",
    "tie = 0\n",
    "i = 0\n",
    "\n",
    "for i in range(0,spells):\n",
    "    if gandalf_power[i] > saruman_power[i]:\n",
    "        gandalf_wins += 1\n",
    "    if saruman_power[i] > gandalf_power[i]:\n",
    "        saruman_wins += 1\n",
    "    if gandalf_power[i] == saruman_power[i]:\n",
    "        tie += 1\n",
    "    \n",
    "if gandalf_wins > saruman_wins:\n",
    "    print('Gandalf Wins')\n",
    "if saruman_wins > gandalf_wins:\n",
    "    print('Saruman Wins')\n",
    "if gandalf_wins == saruman_wins:\n",
    "    print('Empate')\n"
   ]
  },
  {
   "cell_type": "markdown",
   "metadata": {},
   "source": [
    "#### 5. Find the average spell power of Gandalf and Saruman. "
   ]
  },
  {
   "cell_type": "code",
   "execution_count": 27,
   "metadata": {},
   "outputs": [
    {
     "name": "stdout",
     "output_type": "stream",
     "text": [
      "Gandalf_average: 39.0\n",
      "Sanduran_average: 30.5\n"
     ]
    }
   ],
   "source": [
    "gandalf_total = 0\n",
    "saruman_total = 0\n",
    "\n",
    "for i in range(0,spells):\n",
    "    gandalf_total = gandalf_total + gandalf_power[i]\n",
    "    saruman_total = saruman_total + saruman_power[i]\n",
    "    \n",
    "average_progress_gandalf = gandalf_total / spells\n",
    "average_progress_saruman = saruman_total / spells\n",
    "print(('Gandalf_average: ') + str(average_progress_gandalf))\n",
    "print(('Sanduran_average: ') + str(average_progress_saruman))"
   ]
  },
  {
   "cell_type": "markdown",
   "metadata": {},
   "source": [
    "#### 6. Find the standard deviation of the spell power of Gandalf and Saruman. "
   ]
  },
  {
   "cell_type": "code",
   "execution_count": 30,
   "metadata": {},
   "outputs": [
    {
     "name": "stdout",
     "output_type": "stream",
     "text": [
      "standard_deviation_Gandalf: 15.951314818673865\n",
      "standard_deviation_Saruman: 16.40629960309962\n"
     ]
    }
   ],
   "source": [
    "import statistics\n",
    "standard_deviation_total_gandalf = statistics.stdev(gandalf_power)\n",
    "standard_deviation_total_saruman = statistics.stdev(saruman_power)\n",
    "print('standard_deviation_Gandalf: ' + str(standard_deviation_total_gandalf))\n",
    "print('standard_deviation_Saruman: ' + str(standard_deviation_total_saruman))"
   ]
  }
 ],
 "metadata": {
  "kernelspec": {
   "display_name": "Python 3",
   "language": "python",
   "name": "python3"
  },
  "language_info": {
   "codemirror_mode": {
    "name": "ipython",
    "version": 3
   },
   "file_extension": ".py",
   "mimetype": "text/x-python",
   "name": "python",
   "nbconvert_exporter": "python",
   "pygments_lexer": "ipython3",
   "version": "3.8.5"
  }
 },
 "nbformat": 4,
 "nbformat_minor": 2
}
